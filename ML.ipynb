{
 "cells": [
  {
   "cell_type": "code",
   "execution_count": null,
   "metadata": {},
   "outputs": [
    {
     "ename": "",
     "evalue": "",
     "output_type": "error",
     "traceback": [
      "\u001b[1;31mFailed to start the Kernel. \n",
      "\u001b[1;31mOSError: [WinError 123] The filename, directory name, or volume label syntax is incorrect: '\"c:'. \n",
      "\u001b[1;31mView Jupyter <a href='command:jupyter.viewOutput'>log</a> for further details."
     ]
    }
   ],
   "source": [
    "import pandas as pd\n",
    "import matplotlib.pyplot as plt\n",
    "\n",
    "factors = [\n",
    "            '2ATR15Min_wav', '2ATRHour_wav'\n",
    "            '5Candle', '50Candle']\n",
    "stock_symbols = [\"PG\",\"JPM\",\"HD\",\"CVX\", \"ABBV\"]\n",
    "list_of_stocks = []\n",
    "for stock_symbol in stock_symbols:\n",
    "        list_of_stocks.append(stock_symbol + \"_2020-10-09_2022-08-30_60min\")\n",
    "df = pd.read_csv(f'data\\{list_of_stocks[0]}_Processed.csv').dropna()\n",
    "for stock in list_of_stocks[1:]:\n",
    "    df = pd.concat([df,pd.read_csv(f'data\\{stock}_Processed.csv').dropna()])\n",
    "\n",
    "df.describe()"
   ]
  },
  {
   "cell_type": "code",
   "execution_count": null,
   "metadata": {},
   "outputs": [
    {
     "ename": "",
     "evalue": "",
     "output_type": "error",
     "traceback": [
      "\u001b[1;31mFailed to start the Kernel. \n",
      "\u001b[1;31mOSError: [WinError 123] The filename, directory name, or volume label syntax is incorrect: '\"c:'. \n",
      "\u001b[1;31mView Jupyter <a href='command:jupyter.viewOutput'>log</a> for further details."
     ]
    }
   ],
   "source": [
    "from sklearn.model_selection import train_test_split\n",
    "from sklearn.metrics import mean_absolute_error\n",
    "from xgboost import XGBRegressor\n",
    "\n",
    "X = df[factors]\n",
    "y = df['return']\n",
    "\n",
    "X_train, X_valid, y_train, y_valid = train_test_split(X, y)\n",
    "\n",
    "model = XGBRegressor(learning_rate = 0.025, n_estimators=300) #random_state=0, learning_rate = rate, n_estimators=500\n",
    "model.fit(X_train, y_train,\n",
    "            eval_set=[(X_valid, y_valid)],\n",
    "            verbose=False,\n",
    "            eval_metric='mae')\n",
    "predictions = model.predict(X_valid)\n",
    "\n",
    "mean_absolute_error(predictions, y_valid)"
   ]
  },
  {
   "cell_type": "code",
   "execution_count": null,
   "metadata": {},
   "outputs": [
    {
     "ename": "",
     "evalue": "",
     "output_type": "error",
     "traceback": [
      "\u001b[1;31mFailed to start the Kernel. \n",
      "\u001b[1;31mOSError: [WinError 123] The filename, directory name, or volume label syntax is incorrect: '\"c:'. \n",
      "\u001b[1;31mView Jupyter <a href='command:jupyter.viewOutput'>log</a> for further details."
     ]
    }
   ],
   "source": [
    "df2 = pd.read_csv('data\\GOOG_2020-09-25_2022-08-16_1min_Processed.csv').dropna()\n",
    "df2\n",
    "pred = model.predict(df2[factors])\n",
    "real = list(df2['return'])\n",
    "mean_absolute_error(pred, real)"
   ]
  },
  {
   "cell_type": "code",
   "execution_count": null,
   "metadata": {},
   "outputs": [
    {
     "ename": "",
     "evalue": "",
     "output_type": "error",
     "traceback": [
      "\u001b[1;31mFailed to start the Kernel. \n",
      "\u001b[1;31mOSError: [WinError 123] The filename, directory name, or volume label syntax is incorrect: '\"c:'. \n",
      "\u001b[1;31mView Jupyter <a href='command:jupyter.viewOutput'>log</a> for further details."
     ]
    }
   ],
   "source": [
    "count = 0\n",
    "sum = 0\n",
    "for i in range(len(pred)):\n",
    "    if pred[i] > 0 and real[i] > 0:\n",
    "        count+= 1\n",
    "    elif pred[i] < 0 and real[i] < 0:\n",
    "        count += 1\n",
    "    if pred[i] > 0.0001:\n",
    "        sum += real[i]\n",
    "\n",
    "print(count/len(pred))\n",
    "print(sum/180)\n",
    "#hence gets sin right 54% of the time"
   ]
  },
  {
   "cell_type": "code",
   "execution_count": null,
   "metadata": {},
   "outputs": [
    {
     "ename": "",
     "evalue": "",
     "output_type": "error",
     "traceback": [
      "\u001b[1;31mFailed to start the Kernel. \n",
      "\u001b[1;31mOSError: [WinError 123] The filename, directory name, or volume label syntax is incorrect: '\"c:'. \n",
      "\u001b[1;31mView Jupyter <a href='command:jupyter.viewOutput'>log</a> for further details."
     ]
    }
   ],
   "source": [
    "model.save_model(\"model_sklearn.json\")\n",
    "\n",
    "model2 = XGBRegressor()\n",
    "model2.load_model(\"model_sklearn.json\")\n",
    "\n",
    "df3 = pd.read_csv('data\\TSLA_2020-03-01_2022-01-20_1min_Processed.csv').dropna()\n",
    "\n",
    "p = model2.predict(df3[factors])\n",
    "r = df3['return']\n",
    "mean_absolute_error(p, r)"
   ]
  },
  {
   "cell_type": "code",
   "execution_count": null,
   "metadata": {},
   "outputs": [
    {
     "ename": "",
     "evalue": "",
     "output_type": "error",
     "traceback": [
      "\u001b[1;31mFailed to start the Kernel. \n",
      "\u001b[1;31mOSError: [WinError 123] The filename, directory name, or volume label syntax is incorrect: '\"c:'. \n",
      "\u001b[1;31mView Jupyter <a href='command:jupyter.viewOutput'>log</a> for further details."
     ]
    }
   ],
   "source": [
    "df = pd.read_csv('data\\AAPL_2020-03-24_2022-02-12_1min_Processed.csv')[['TP','5Day_wav']]\n",
    "plt.figure()\n",
    "\n",
    "df.iloc[5000:5250].plot()\n",
    "df.iloc[5000:5650].plot()\n",
    "df.iloc[5000:35650].plot()\n",
    "df.plot()"
   ]
  }
 ],
 "metadata": {
  "kernelspec": {
   "display_name": "Python 3.9.10 64-bit (windows store)",
   "language": "python",
   "name": "python3"
  },
  "language_info": {
   "codemirror_mode": {
    "name": "ipython",
    "version": 3
   },
   "file_extension": ".py",
   "mimetype": "text/x-python",
   "name": "python",
   "nbconvert_exporter": "python",
   "pygments_lexer": "ipython3",
   "version": "3.9.13"
  },
  "orig_nbformat": 4,
  "vscode": {
   "interpreter": {
    "hash": "97adeac5363b403a2286bde1f3c8423ae6e8d644316d1ba2c281936601e2e10c"
   }
  }
 },
 "nbformat": 4,
 "nbformat_minor": 2
}
